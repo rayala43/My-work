{
 "cells": [
  {
   "cell_type": "code",
   "execution_count": 1,
   "id": "298708a4",
   "metadata": {},
   "outputs": [],
   "source": [
    "import numpy as np\n",
    "import pandas as pd\n",
    "import polars as pl\n",
    "import sys\n",
    "import re\n",
    "import os\n",
    "import matplotlib.pyplot as plt\n",
    "import seaborn as sns\n",
    "import plotly\n",
    "import plotly.express as px\n",
    "\n",
    "\n",
    "pd.set_option('display.max_columns',None)\n",
    "import psycopg2\n",
    "\n",
    "\n",
    "#to scale the data using z-score \n",
    "from sklearn.preprocessing import StandardScaler\n",
    "from sklearn.model_selection import train_test_split\n",
    "\n",
    "#Algorithms to use\n",
    "from sklearn.linear_model import LogisticRegression\n",
    "from sklearn.neighbors import KNeighborsClassifier\n",
    "\n",
    "#Metrics to evaluate the model\n",
    "from sklearn.metrics import confusion_matrix, classification_report, precision_recall_curve\n",
    "\n",
    "import warnings\n",
    "warnings.filterwarnings(\"ignore\")\n",
    "\n",
    "#importing PCA and TSNE\n",
    "from sklearn.decomposition import PCA\n",
    "from sklearn.manifold import TSNE"
   ]
  },
  {
   "cell_type": "code",
   "execution_count": null,
   "id": "e0442303",
   "metadata": {},
   "outputs": [],
   "source": []
  },
  {
   "cell_type": "code",
   "execution_count": 5,
   "id": "6e0a32ed",
   "metadata": {},
   "outputs": [
    {
     "name": "stdout",
     "output_type": "stream",
     "text": [
      "Filtering and saving completed.\n"
     ]
    }
   ],
   "source": [
    "import os\n",
    "import pandas as pd\n",
    "\n",
    "def filter_and_save_rows(input_file, output_file, target_gene='KDR'):\n",
    "    # Read the .maf file into a DataFrame using pandas\n",
    "    df = pd.read_csv(input_file, delimiter='\\t', encoding='utf-8')\n",
    "\n",
    "    # Filter rows based on the target_gene\n",
    "    filtered_df = df[df['Hugo_Symbol'] == target_gene]\n",
    "\n",
    "    # Save filtered rows to the output file\n",
    "    filtered_df.to_csv(output_file, sep='\\t', index=False, encoding='utf-8')\n",
    "\n",
    "# Specify the input folder and output folder\n",
    "input_folder = r'C:/Users/GenepoweRx_Madhu/Downloads/KDR_MAF/'\n",
    "output_folder = r'C:/Users/GenepoweRx_Madhu/Downloads/KDR_MAF/O_P/'\n",
    "\n",
    "# Iterate through .maf files in the folder\n",
    "for filename in os.listdir(input_folder):\n",
    "    if filename.endswith('.maf'):\n",
    "        input_file = os.path.join(input_folder, filename)\n",
    "\n",
    "        # Generate a unique output file name based on the input file name\n",
    "        output_file = os.path.join(output_folder, f\"{os.path.splitext(filename)[0]}_output.maf\")\n",
    "\n",
    "        filter_and_save_rows(input_file, output_file)\n",
    "\n",
    "print(\"Filtering and saving completed.\")\n"
   ]
  },
  {
   "cell_type": "code",
   "execution_count": null,
   "id": "87e403e6",
   "metadata": {},
   "outputs": [],
   "source": []
  }
 ],
 "metadata": {
  "kernelspec": {
   "display_name": "Python 3 (ipykernel)",
   "language": "python",
   "name": "python3"
  },
  "language_info": {
   "codemirror_mode": {
    "name": "ipython",
    "version": 3
   },
   "file_extension": ".py",
   "mimetype": "text/x-python",
   "name": "python",
   "nbconvert_exporter": "python",
   "pygments_lexer": "ipython3",
   "version": "3.10.9"
  }
 },
 "nbformat": 4,
 "nbformat_minor": 5
}
